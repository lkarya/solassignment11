{
 "cells": [
  {
   "cell_type": "code",
   "execution_count": null,
   "id": "596b17a8",
   "metadata": {},
   "outputs": [],
   "source": [
    "# Create an assert statement that throws an Assertion Error if the variable spam is a negative integer.\n",
    "\n",
    "assert spam >= 10, 'The spam variable is less than 10.'\n",
    "\n",
    "\n",
    "# Write an assert statement that always triggers an AssertionError.\n",
    "assert False, 'This assertion always triggers.'\n",
    "\n",
    "\n",
    "# What are the two lines that your program must have in order to be able to call logging.debug()?\n",
    "To be able to call logging.debug(), you must have these two lines at the start of your program:\n",
    "\n",
    "import logging\n",
    "logging.basicConfig(level=logging.DEBUG, format=' %(asctime)s -\n",
    "%(levelname)s - %(message)s')\n",
    "                    \n",
    "        \n",
    "# What are the five logging levels?\n",
    "DEBUG, INFO, WARNING, ERROR, and CRITICAL\n",
    "                    \n",
    "\n",
    "# What line of code can you add to disable all logging messages in your program?\n",
    "logging.disable(logging.CRITICAL)     \n",
    "                    \n",
    "\n",
    "# Why is using logging messages better than using print() to display the same message?\n",
    "You can disable logging messages without removing the logging function calls. \n",
    "You can selectively disable lower-level logging messages. You can create logging messages. \n",
    "Logging messages provides a timestamp.\n",
    "                    \n",
    "# What are the differences between the Step, Over, and Out buttons in the Debug Control window?\n",
    "The Step button will move the debugger into a function call. \n",
    "The Over button will quickly execute the function call without stepping into it. \n",
    "The Out button will quickly execute the rest of the code until it steps out of the function it currently is in.                    \n"
   ]
  }
 ],
 "metadata": {
  "kernelspec": {
   "display_name": "Python 3 (ipykernel)",
   "language": "python",
   "name": "python3"
  },
  "language_info": {
   "codemirror_mode": {
    "name": "ipython",
    "version": 3
   },
   "file_extension": ".py",
   "mimetype": "text/x-python",
   "name": "python",
   "nbconvert_exporter": "python",
   "pygments_lexer": "ipython3",
   "version": "3.9.7"
  }
 },
 "nbformat": 4,
 "nbformat_minor": 5
}
